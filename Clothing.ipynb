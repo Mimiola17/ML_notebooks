{
 "cells": [
  {
   "cell_type": "code",
   "execution_count": 5,
   "metadata": {},
   "outputs": [],
   "source": [
    "class Boutique():\n",
    "    \n",
    "    def __init__(self, cost_price, tag_no, size, stock):\n",
    "        self.cost_price = cost_price\n",
    "        self.tag_no = tag_no\n",
    "        self.size = size\n",
    "        self.stock = stock\n",
    "        self.sell_price = cost_price * 1.2\n",
    "    \n",
    "    \n",
    "    def buy(self, qty=1):\n",
    "        self.stock -= qty\n",
    "        print(f\"Tag_no: {self.tag_no}\\nSize: {self.size}\\nQuantity: {qty}\\nAmount: #{self.sell_price * qty}\")\n",
    "    \n",
    "    def stock_remain(self):\n",
    "        return self.stock\n",
    "    \n",
    "    def replenish(self, new_stock):\n",
    "        self.stock = self.stock_remain() + new_stock\n",
    "        print(f\"New Stock: {self.stock}\")\n",
    "        "
   ]
  },
  {
   "cell_type": "code",
   "execution_count": 6,
   "metadata": {},
   "outputs": [],
   "source": [
    "class Clothe(Boutique):\n",
    "    \n",
    "    def __init__(self, cost_price, tag_no, size, stock, material):\n",
    "        super().__init__(cost_price, tag_no, size, stock)\n",
    "        self.material = material\n",
    "    \n",
    "    def buy(self, qty=1):\n",
    "        print(f\"Item bought: {self.material}\\n{super().buy(qty)}\")"
   ]
  },
  {
   "cell_type": "code",
   "execution_count": 7,
   "metadata": {},
   "outputs": [],
   "source": [
    "class Shoe(Boutique):\n",
    "    \n",
    "    def __init__(self, cost_price, tag_no, size, stock, shoe_type):\n",
    "        super().__init__(cost_price, tag_no, size, stock)\n",
    "        self.shoe_type = shoe_type\n",
    "        \n",
    "    def buy(self, qty=1):\n",
    "        print(f\"Item bought: {self.shoe_type}\\n{super().buy(qty)}\")"
   ]
  },
  {
   "cell_type": "code",
   "execution_count": null,
   "metadata": {},
   "outputs": [],
   "source": []
  },
  {
   "cell_type": "code",
   "execution_count": 8,
   "metadata": {},
   "outputs": [],
   "source": [
    "user1 = Boutique(10000, 'ANK02', 'small', 100)"
   ]
  },
  {
   "cell_type": "code",
   "execution_count": 9,
   "metadata": {},
   "outputs": [
    {
     "name": "stdout",
     "output_type": "stream",
     "text": [
      "Tag_no: ANK02\n",
      "Size: small\n",
      "Quantity: 5\n",
      "Amount: #60000.0\n"
     ]
    }
   ],
   "source": [
    "user1.buy(5)"
   ]
  },
  {
   "cell_type": "code",
   "execution_count": null,
   "metadata": {},
   "outputs": [],
   "source": []
  },
  {
   "cell_type": "code",
   "execution_count": 10,
   "metadata": {},
   "outputs": [],
   "source": [
    "cust1 = Clothe(10000, 'ANK01', 'large', 50, 'Ankara')"
   ]
  },
  {
   "cell_type": "code",
   "execution_count": 13,
   "metadata": {},
   "outputs": [
    {
     "name": "stdout",
     "output_type": "stream",
     "text": [
      "Tag_no: ANK01\n",
      "Size: large\n",
      "Quantity: 3\n",
      "Amount: #36000.0\n",
      "Item bought: Ankara\n",
      "None\n"
     ]
    }
   ],
   "source": [
    "cust1.buy(3)"
   ]
  },
  {
   "cell_type": "code",
   "execution_count": 12,
   "metadata": {},
   "outputs": [
    {
     "name": "stdout",
     "output_type": "stream",
     "text": [
      "New Stock: 48\n"
     ]
    }
   ],
   "source": [
    "cust1.replenish(3)"
   ]
  },
  {
   "cell_type": "code",
   "execution_count": null,
   "metadata": {},
   "outputs": [],
   "source": [
    "cust2 = Clothe(15000, 'SHR02', 'medium', 3, 'Shirt')"
   ]
  },
  {
   "cell_type": "code",
   "execution_count": null,
   "metadata": {},
   "outputs": [],
   "source": [
    "cust2.buy()"
   ]
  },
  {
   "cell_type": "code",
   "execution_count": null,
   "metadata": {},
   "outputs": [],
   "source": []
  }
 ],
 "metadata": {
  "kernelspec": {
   "display_name": "Python 3",
   "language": "python",
   "name": "python3"
  },
  "language_info": {
   "codemirror_mode": {
    "name": "ipython",
    "version": 3
   },
   "file_extension": ".py",
   "mimetype": "text/x-python",
   "name": "python",
   "nbconvert_exporter": "python",
   "pygments_lexer": "ipython3",
   "version": "3.8.5"
  }
 },
 "nbformat": 4,
 "nbformat_minor": 4
}
